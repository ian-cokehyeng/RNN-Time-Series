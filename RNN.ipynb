{
 "cells": [
  {
   "cell_type": "markdown",
   "id": "305ff05e",
   "metadata": {},
   "source": [
    "## RNN Hyperparameter Tuning to Forecast Daily MW with 30-day Gap"
   ]
  },
  {
   "cell_type": "markdown",
   "id": "4c30c5db",
   "metadata": {},
   "source": [
    "Compact demonstration of GRU for time series forecasting with hyperparameter tuning of the lookback window, dropout rate, and recurrent dropout rate. "
   ]
  },
  {
   "cell_type": "markdown",
   "id": "e758b170",
   "metadata": {},
   "source": [
    "### **Results (Normalized)**\n",
    "\n",
    "| Model (GRU)                                | Fit Time | Best Epoch | Train MAE | Val MAE | Test MAE |\n",
    "|--------------------------------------------|----------|------------|-----------|---------|----------|\n",
    "| Naive Baseline                             |          |            |           |         | 1.03     |\n",
    "| Lookback: 28, Dropout: 0.2, R. Dropout: 0  | 37.12    | 16         | 0.57      | 0.57    | 0.55     |\n",
    "| Lookback: 28, Dropout: 0, R. Dropout: 0.2  | 38.10    | 17         | 0.57      | 0.57    | 0.55     |\n",
    "| Lookback: 28, Dropout: 0.1, R. Dropout: 0.1| 39.24    | 13         | 0.59      | 0.59    | 0.56     |\n",
    "| Lookback: 28, Dropout: 0, R. Dropout: 0.1  | 39.11    | 16         | 0.57      | 0.57    | 0.57     |"
   ]
  },
  {
   "cell_type": "markdown",
   "id": "f15eb384",
   "metadata": {},
   "source": [
    "## Import Libraries"
   ]
  },
  {
   "cell_type": "code",
   "execution_count": 46,
   "id": "3817c8ae",
   "metadata": {},
   "outputs": [],
   "source": [
    "import itertools\n",
    "import time\n",
    "import numpy as np\n",
    "import pandas as pd\n",
    "from matplotlib import pyplot as plt\n",
    "from tqdm import tqdm\n",
    "from pandas.tseries.holiday import USFederalHolidayCalendar\n",
    "from keras.models import Sequential\n",
    "from keras import layers\n",
    "from tensorflow.keras.optimizers import RMSprop\n",
    "from keras.callbacks import ModelCheckpoint\n",
    "from keras.models import load_model\n",
    "import warnings\n",
    "warnings.filterwarnings('ignore')"
   ]
  },
  {
   "cell_type": "markdown",
   "id": "fb701302",
   "metadata": {},
   "source": [
    "## Data Loading and Pre-Processing"
   ]
  },
  {
   "cell_type": "markdown",
   "id": "43bd8270",
   "metadata": {},
   "source": [
    "**Source**: [Kaggle](https://www.kaggle.com/datasets/robikscube/hourly-energy-consumption)\n",
    "\n",
    "*\"PJM Interconnection LLC (PJM) is a regional transmission organization (RTO) in the United States. It is part of the Eastern Interconnection grid operating an electric transmission system serving all or parts of Delaware, Illinois, Indiana, Kentucky, Maryland, Michigan, New Jersey, North Carolina, Ohio, Pennsylvania, Tennessee, Virginia, West Virginia, and the District of Columbia.*\n",
    "\n",
    "*The hourly power consumption data comes from PJM's website and are in megawatts (MW).*\n",
    "\n",
    "*The regions have changed over the years so data may only appear for certain dates per region.\"*"
   ]
  },
  {
   "cell_type": "code",
   "execution_count": 6,
   "id": "d2eaec2e-0a7f-4a1b-b55e-05b80b480dcc",
   "metadata": {
    "execution": {
     "iopub.execute_input": "2024-05-04T06:01:59.192848Z",
     "iopub.status.busy": "2024-05-04T06:01:59.192487Z",
     "iopub.status.idle": "2024-05-04T06:01:59.476818Z",
     "shell.execute_reply": "2024-05-04T06:01:59.475751Z",
     "shell.execute_reply.started": "2024-05-04T06:01:59.192819Z"
    },
    "tags": []
   },
   "outputs": [
    {
     "data": {
      "text/html": [
       "<div>\n",
       "<style scoped>\n",
       "    .dataframe tbody tr th:only-of-type {\n",
       "        vertical-align: middle;\n",
       "    }\n",
       "\n",
       "    .dataframe tbody tr th {\n",
       "        vertical-align: top;\n",
       "    }\n",
       "\n",
       "    .dataframe thead th {\n",
       "        text-align: right;\n",
       "    }\n",
       "</style>\n",
       "<table border=\"1\" class=\"dataframe\">\n",
       "  <thead>\n",
       "    <tr style=\"text-align: right;\">\n",
       "      <th></th>\n",
       "      <th>PJMW_MW</th>\n",
       "      <th>is_holiday</th>\n",
       "      <th>Day_of_Week_1</th>\n",
       "      <th>Day_of_Week_2</th>\n",
       "      <th>Day_of_Week_3</th>\n",
       "      <th>Day_of_Week_4</th>\n",
       "      <th>Day_of_Week_5</th>\n",
       "      <th>Day_of_Week_6</th>\n",
       "      <th>Year_2003</th>\n",
       "      <th>Year_2004</th>\n",
       "      <th>...</th>\n",
       "      <th>Month_3</th>\n",
       "      <th>Month_4</th>\n",
       "      <th>Month_5</th>\n",
       "      <th>Month_6</th>\n",
       "      <th>Month_7</th>\n",
       "      <th>Month_8</th>\n",
       "      <th>Month_9</th>\n",
       "      <th>Month_10</th>\n",
       "      <th>Month_11</th>\n",
       "      <th>Month_12</th>\n",
       "    </tr>\n",
       "    <tr>\n",
       "      <th>Datetime</th>\n",
       "      <th></th>\n",
       "      <th></th>\n",
       "      <th></th>\n",
       "      <th></th>\n",
       "      <th></th>\n",
       "      <th></th>\n",
       "      <th></th>\n",
       "      <th></th>\n",
       "      <th></th>\n",
       "      <th></th>\n",
       "      <th></th>\n",
       "      <th></th>\n",
       "      <th></th>\n",
       "      <th></th>\n",
       "      <th></th>\n",
       "      <th></th>\n",
       "      <th></th>\n",
       "      <th></th>\n",
       "      <th></th>\n",
       "      <th></th>\n",
       "      <th></th>\n",
       "    </tr>\n",
       "  </thead>\n",
       "  <tbody>\n",
       "    <tr>\n",
       "      <th>2002-04-01</th>\n",
       "      <td>121237.0</td>\n",
       "      <td>0</td>\n",
       "      <td>False</td>\n",
       "      <td>False</td>\n",
       "      <td>False</td>\n",
       "      <td>False</td>\n",
       "      <td>False</td>\n",
       "      <td>False</td>\n",
       "      <td>False</td>\n",
       "      <td>False</td>\n",
       "      <td>...</td>\n",
       "      <td>False</td>\n",
       "      <td>True</td>\n",
       "      <td>False</td>\n",
       "      <td>False</td>\n",
       "      <td>False</td>\n",
       "      <td>False</td>\n",
       "      <td>False</td>\n",
       "      <td>False</td>\n",
       "      <td>False</td>\n",
       "      <td>False</td>\n",
       "    </tr>\n",
       "    <tr>\n",
       "      <th>2002-04-02</th>\n",
       "      <td>127450.0</td>\n",
       "      <td>0</td>\n",
       "      <td>True</td>\n",
       "      <td>False</td>\n",
       "      <td>False</td>\n",
       "      <td>False</td>\n",
       "      <td>False</td>\n",
       "      <td>False</td>\n",
       "      <td>False</td>\n",
       "      <td>False</td>\n",
       "      <td>...</td>\n",
       "      <td>False</td>\n",
       "      <td>True</td>\n",
       "      <td>False</td>\n",
       "      <td>False</td>\n",
       "      <td>False</td>\n",
       "      <td>False</td>\n",
       "      <td>False</td>\n",
       "      <td>False</td>\n",
       "      <td>False</td>\n",
       "      <td>False</td>\n",
       "    </tr>\n",
       "    <tr>\n",
       "      <th>2002-04-03</th>\n",
       "      <td>127822.0</td>\n",
       "      <td>0</td>\n",
       "      <td>False</td>\n",
       "      <td>True</td>\n",
       "      <td>False</td>\n",
       "      <td>False</td>\n",
       "      <td>False</td>\n",
       "      <td>False</td>\n",
       "      <td>False</td>\n",
       "      <td>False</td>\n",
       "      <td>...</td>\n",
       "      <td>False</td>\n",
       "      <td>True</td>\n",
       "      <td>False</td>\n",
       "      <td>False</td>\n",
       "      <td>False</td>\n",
       "      <td>False</td>\n",
       "      <td>False</td>\n",
       "      <td>False</td>\n",
       "      <td>False</td>\n",
       "      <td>False</td>\n",
       "    </tr>\n",
       "  </tbody>\n",
       "</table>\n",
       "<p>3 rows × 35 columns</p>\n",
       "</div>"
      ],
      "text/plain": [
       "             PJMW_MW  is_holiday  Day_of_Week_1  Day_of_Week_2  Day_of_Week_3  \\\n",
       "Datetime                                                                        \n",
       "2002-04-01  121237.0           0          False          False          False   \n",
       "2002-04-02  127450.0           0           True          False          False   \n",
       "2002-04-03  127822.0           0          False           True          False   \n",
       "\n",
       "            Day_of_Week_4  Day_of_Week_5  Day_of_Week_6  Year_2003  Year_2004  \\\n",
       "Datetime                                                                        \n",
       "2002-04-01          False          False          False      False      False   \n",
       "2002-04-02          False          False          False      False      False   \n",
       "2002-04-03          False          False          False      False      False   \n",
       "\n",
       "            ...  Month_3  Month_4  Month_5  Month_6  Month_7  Month_8  \\\n",
       "Datetime    ...                                                         \n",
       "2002-04-01  ...    False     True    False    False    False    False   \n",
       "2002-04-02  ...    False     True    False    False    False    False   \n",
       "2002-04-03  ...    False     True    False    False    False    False   \n",
       "\n",
       "            Month_9  Month_10  Month_11  Month_12  \n",
       "Datetime                                           \n",
       "2002-04-01    False     False     False     False  \n",
       "2002-04-02    False     False     False     False  \n",
       "2002-04-03    False     False     False     False  \n",
       "\n",
       "[3 rows x 35 columns]"
      ]
     },
     "execution_count": 6,
     "metadata": {},
     "output_type": "execute_result"
    }
   ],
   "source": [
    "df = pd.read_csv('PJMW_hourly.csv')\n",
    "df['Datetime'] = pd.to_datetime(df['Datetime'])\n",
    "df.drop_duplicates('Datetime', inplace=True)\n",
    "df.set_index('Datetime', inplace=True)\n",
    "df = df.resample('24h').sum()[:-1] # removing the last day due to incomplete data\n",
    "df['Day_of_Week'] = df.index.dayofweek\n",
    "df['Year'] = df.index.year\n",
    "df['Month'] = df.index.month\n",
    "holidays = USFederalHolidayCalendar().holidays(start=df.index.min(),\n",
    "                                               end=df.index.max())\n",
    "df['is_holiday'] = df.index.isin(holidays).astype(int)\n",
    "df = pd.get_dummies(df, columns=['Day_of_Week', 'Year', 'Month'], drop_first=True)\n",
    "df.head(3)\n"
   ]
  },
  {
   "cell_type": "code",
   "execution_count": 12,
   "id": "23615b01",
   "metadata": {},
   "outputs": [
    {
     "name": "stdout",
     "output_type": "stream",
     "text": [
      "Training Count: 4177\n",
      "Val Count: 895\n",
      "Test Count: 896\n"
     ]
    }
   ],
   "source": [
    "train_len = int(0.7 * len(df))\n",
    "val_len = int(0.15 * len(df))\n",
    "test_len = len(df) - train_len - val_len\n",
    "\n",
    "print(f\"Training Count: {train_len}\")\n",
    "print(f\"Val Count: {val_len}\")\n",
    "print(f\"Test Count: {test_len}\")"
   ]
  },
  {
   "cell_type": "code",
   "execution_count": 18,
   "id": "e553f6b2",
   "metadata": {},
   "outputs": [],
   "source": [
    "# normalized to the original training data\n",
    "\n",
    "float_data = df.to_numpy().astype('float32')\n",
    "mean = float_data[:train_len, 0].mean(axis=0)\n",
    "std = float_data[:train_len, 0].std(axis=0)\n",
    "\n",
    "float_data[:, 0] -= mean\n",
    "float_data[:, 0] /= std"
   ]
  },
  {
   "cell_type": "markdown",
   "id": "e5cbf927",
   "metadata": {},
   "source": [
    "## Data Generation"
   ]
  },
  {
   "cell_type": "code",
   "execution_count": 22,
   "id": "083c1f67",
   "metadata": {},
   "outputs": [],
   "source": [
    "def get_gens(lookback=7):\n",
    "    train_gen = keras.utils.timeseries_dataset_from_array(\n",
    "        float_data[:-delay],\n",
    "        targets=float_data[delay:, target_col],\n",
    "        sequence_length=lookback,\n",
    "        shuffle=True,\n",
    "        batch_size=batch_size,\n",
    "        start_index=0,\n",
    "        end_index=train_len\n",
    "    )\n",
    "\n",
    "    val_gen = keras.utils.timeseries_dataset_from_array(\n",
    "        float_data[:-delay],\n",
    "        targets=float_data[delay:, target_col],\n",
    "        sequence_length=lookback,\n",
    "        shuffle=False,\n",
    "        batch_size=batch_size,\n",
    "        start_index=train_len,\n",
    "        end_index=train_len + val_len\n",
    "    )\n",
    "\n",
    "    test_gen = keras.utils.timeseries_dataset_from_array(\n",
    "        float_data[:-delay],\n",
    "        targets=float_data[delay:, target_col],\n",
    "        sequence_length=lookback,\n",
    "        shuffle=False,\n",
    "        batch_size=batch_size,\n",
    "        start_index=train_len + val_len\n",
    "    )\n",
    "    \n",
    "    return train_gen, val_gen, test_gen"
   ]
  },
  {
   "cell_type": "markdown",
   "id": "68e102ed",
   "metadata": {},
   "source": [
    "## GRU Test Predictions"
   ]
  },
  {
   "cell_type": "code",
   "execution_count": 53,
   "id": "0624f7af",
   "metadata": {},
   "outputs": [],
   "source": [
    "lookbacks = [7, 14, 28]\n",
    "drpouts = [0, 0.1, 0.2, 0.5]\n",
    "rdrpouts = [0, 0.1, 0.2, 0.5]"
   ]
  },
  {
   "cell_type": "code",
   "execution_count": 54,
   "id": "672e7867-ef85-4c13-9c03-0f4cf27f7ce1",
   "metadata": {
    "execution": {
     "iopub.execute_input": "2024-05-04T07:59:51.558434Z",
     "iopub.status.busy": "2024-05-04T07:59:51.557854Z",
     "iopub.status.idle": "2024-05-04T08:20:36.908409Z",
     "shell.execute_reply": "2024-05-04T08:20:36.907066Z",
     "shell.execute_reply.started": "2024-05-04T07:59:51.558377Z"
    },
    "tags": []
   },
   "outputs": [
    {
     "name": "stderr",
     "output_type": "stream",
     "text": [
      "48it [23:21, 29.20s/it]\n"
     ]
    }
   ],
   "source": [
    "results = []\n",
    "\n",
    "for lb, d, rd in tqdm(itertools.product(lookbacks, drpouts, rdrpouts)):\n",
    "    train_gen, val_gen, test_gen = get_gens(lookback=lb)\n",
    "    \n",
    "    model = Sequential()\n",
    "    model.add(layers.GRU(16,\n",
    "                        dropout=d,\n",
    "                        recurrent_dropout=rd,\n",
    "                        return_sequences=True,\n",
    "                        input_shape=(None, float_data.shape[-1])))\n",
    "    model.add(layers.GRU(32, activation='relu',\n",
    "                            dropout=0.1,\n",
    "                            recurrent_dropout=0.2))\n",
    "    model.add(layers.Dense(1))\n",
    "    model.compile(optimizer=RMSprop(), loss='mse', metrics=['mae'])\n",
    "\n",
    "    model_name = f\"lb{lb}_d{d}_rd{rd}.keras\"\n",
    "    checkpoint = ModelCheckpoint(model_name, \n",
    "                                monitor='val_loss', \n",
    "                                save_best_only=True, \n",
    "                                mode='min',\n",
    "                                verbose=False)\n",
    "    start_time = time.time()\n",
    "    history = model.fit(train_gen, \n",
    "                        epochs=15,\n",
    "                        validation_data=val_gen,\n",
    "                        callbacks=[checkpoint],\n",
    "                        verbose=False)\n",
    "    elapsed_time = time.time() - start_time\n",
    "\n",
    "    best_model = load_model(model_name)\n",
    "    test_mae = best_model.evaluate(test_gen, verbose=False)[1]\n",
    "\n",
    "    epoch = np.argmin(history.history['val_loss'])\n",
    "    train_mae = history.history['mae'][epoch] \n",
    "    val_mae = history.history['val_mae'][epoch]\n",
    "\n",
    "    result = {'Model': model_name,\n",
    "            'Fit Time': elapsed_time,\n",
    "            'Best Epoch': epoch+1,\n",
    "            'Train MAE': train_mae,\n",
    "            'Val MAE': val_mae,\n",
    "            'Test MAE': test_mae}\n",
    "\n",
    "    results.append(result)\n",
    "    \n",
    "df_results = pd.DataFrame(results).sort_values('Test MAE', ascending=True, inplace=True)"
   ]
  },
  {
   "cell_type": "markdown",
   "id": "1bd985c4",
   "metadata": {},
   "source": [
    "## Evaluation"
   ]
  },
  {
   "cell_type": "code",
   "execution_count": 106,
   "id": "011f0c8b",
   "metadata": {},
   "outputs": [
    {
     "name": "stdout",
     "output_type": "stream",
     "text": [
      "\u001b[1m27/27\u001b[0m \u001b[32m━━━━━━━━━━━━━━━━━━━━\u001b[0m\u001b[37m\u001b[0m \u001b[1m1s\u001b[0m 15ms/step\n"
     ]
    }
   ],
   "source": [
    "model_name = df_results.Model[0]\n",
    "best_model = load_model(model_name)\n",
    "y_pred = best_model.predict(test_gen)\n",
    "n_samples = len(y_pred)\n",
    "y_test = float_data [-n_samples:, 0]\n",
    "y_naive = float_data[:-30, 0][-n_samples:]"
   ]
  },
  {
   "cell_type": "code",
   "execution_count": 107,
   "id": "6ae5fdd2",
   "metadata": {},
   "outputs": [
    {
     "data": {
      "image/png": "[encoded data removed]",
      "text/plain": [
       "<Figure size 640x480 with 1 Axes>"
      ]
     },
     "metadata": {},
     "output_type": "display_data"
    }
   ],
   "source": [
    "fig, ax = plt.subplots()\n",
    "ax.plot(y_test, label='y_test')\n",
    "ax.plot(y_naive, label='Naive y_pred', linestyle='-', alpha=0.25)\n",
    "ax.plot(y_pred, label='GRU y_pred', linestyle='-')\n",
    "ax.legend()\n",
    "plt.title('Comparison of GRU and Naive Predictions')\n",
    "plt.show()"
   ]
  },
  {
   "cell_type": "code",
   "execution_count": 84,
   "id": "d7905244",
   "metadata": {},
   "outputs": [
    {
     "data": {
      "text/html": [
       "<div>\n",
       "<style scoped>\n",
       "    .dataframe tbody tr th:only-of-type {\n",
       "        vertical-align: middle;\n",
       "    }\n",
       "\n",
       "    .dataframe tbody tr th {\n",
       "        vertical-align: top;\n",
       "    }\n",
       "\n",
       "    .dataframe thead th {\n",
       "        text-align: right;\n",
       "    }\n",
       "</style>\n",
       "<table border=\"1\" class=\"dataframe\">\n",
       "  <thead>\n",
       "    <tr style=\"text-align: right;\">\n",
       "      <th></th>\n",
       "      <th>Model</th>\n",
       "      <th>Fit Time</th>\n",
       "      <th>Best Epoch</th>\n",
       "      <th>Train MAE</th>\n",
       "      <th>Val MAE</th>\n",
       "      <th>Test MAE</th>\n",
       "    </tr>\n",
       "  </thead>\n",
       "  <tbody>\n",
       "    <tr>\n",
       "      <th>0</th>\n",
       "      <td>Naive Baseline</td>\n",
       "      <td></td>\n",
       "      <td></td>\n",
       "      <td></td>\n",
       "      <td></td>\n",
       "      <td>1.029994</td>\n",
       "    </tr>\n",
       "    <tr>\n",
       "      <th>1</th>\n",
       "      <td>lb28_d0.2_rd0.keras</td>\n",
       "      <td>37.117377</td>\n",
       "      <td>16</td>\n",
       "      <td>0.571489</td>\n",
       "      <td>0.571489</td>\n",
       "      <td>0.549626</td>\n",
       "    </tr>\n",
       "    <tr>\n",
       "      <th>2</th>\n",
       "      <td>lb28_d0_rd0.2.keras</td>\n",
       "      <td>38.10208</td>\n",
       "      <td>17</td>\n",
       "      <td>0.56667</td>\n",
       "      <td>0.56667</td>\n",
       "      <td>0.552685</td>\n",
       "    </tr>\n",
       "    <tr>\n",
       "      <th>3</th>\n",
       "      <td>lb28_d0.1_rd0.1.keras</td>\n",
       "      <td>38.240898</td>\n",
       "      <td>13</td>\n",
       "      <td>0.587864</td>\n",
       "      <td>0.587864</td>\n",
       "      <td>0.560546</td>\n",
       "    </tr>\n",
       "    <tr>\n",
       "      <th>4</th>\n",
       "      <td>lb28_d0_rd0.1.keras</td>\n",
       "      <td>39.115682</td>\n",
       "      <td>16</td>\n",
       "      <td>0.57346</td>\n",
       "      <td>0.57346</td>\n",
       "      <td>0.570650</td>\n",
       "    </tr>\n",
       "    <tr>\n",
       "      <th>5</th>\n",
       "      <td>lb28_d0.2_rd0.2.keras</td>\n",
       "      <td>37.275737</td>\n",
       "      <td>15</td>\n",
       "      <td>0.567599</td>\n",
       "      <td>0.567599</td>\n",
       "      <td>0.570868</td>\n",
       "    </tr>\n",
       "  </tbody>\n",
       "</table>\n",
       "</div>"
      ],
      "text/plain": [
       "                   Model   Fit Time Best Epoch Train MAE   Val MAE  Test MAE\n",
       "0         Naive Baseline                                            1.029994\n",
       "1    lb28_d0.2_rd0.keras  37.117377         16  0.571489  0.571489  0.549626\n",
       "2    lb28_d0_rd0.2.keras   38.10208         17   0.56667   0.56667  0.552685\n",
       "3  lb28_d0.1_rd0.1.keras  38.240898         13  0.587864  0.587864  0.560546\n",
       "4    lb28_d0_rd0.1.keras  39.115682         16   0.57346   0.57346  0.570650\n",
       "5  lb28_d0.2_rd0.2.keras  37.275737         15  0.567599  0.567599  0.570868"
      ]
     },
     "execution_count": 84,
     "metadata": {},
     "output_type": "execute_result"
    }
   ],
   "source": [
    "naive_mae = np.mean(np.abs(y_naive - y_test))\n",
    "\n",
    "naive_result = pd.DataFrame([{\n",
    "    'Model': 'Naive Baseline', \n",
    "    'Fit Time': '', \n",
    "    'Best Epoch': '',\n",
    "    'Train MAE': '',\n",
    "    'Val MAE': '',\n",
    "    'Test MAE': naive_mae\n",
    "}])\n",
    "\n",
    "pd.concat([naive_result, df_results.head(5)], ignore_index = True)"
   ]
  },
  {
   "cell_type": "markdown",
   "id": "baa6f36d",
   "metadata": {},
   "source": [
    "## Citation\n",
    "\n",
    "RobikSCube. (n.d.). *Hourly Energy Consumption*. Kaggle. Retrieved May 10, 2024, from [https://www.kaggle.com/datasets/robikscube/hourly-energy-consumption](https://www.kaggle.com/datasets/robikscube/hourly-energy-consumption)"
   ]
  }
 ],
 "metadata": {
  "kernelspec": {
   "display_name": "Python 3 (ipykernel)",
   "language": "python",
   "name": "python3"
  },
  "language_info": {
   "codemirror_mode": {
    "name": "ipython",
    "version": 3
   },
   "file_extension": ".py",
   "mimetype": "text/x-python",
   "name": "python",
   "nbconvert_exporter": "python",
   "pygments_lexer": "ipython3",
   "version": "3.11.9"
  }
 },
 "nbformat": 4,
 "nbformat_minor": 5
}
